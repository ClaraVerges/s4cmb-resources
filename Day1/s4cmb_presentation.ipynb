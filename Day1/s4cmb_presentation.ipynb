{
 "cells": [
  {
   "cell_type": "markdown",
   "metadata": {},
   "source": [
    "Presentation of the library\n",
    "====\n",
    "Welcome! This notebook presents the main part of the s4cmb library.\n",
    "More specifically it focuses on the following classes:\n",
    "* Instrument\n",
    "* Input sky\n",
    "* scanning strategy\n",
    "* Time-Ordered data\n",
    "* Output sky"
   ]
  },
  {
   "cell_type": "code",
   "execution_count": 1,
   "metadata": {
    "collapsed": false
   },
   "outputs": [],
   "source": [
    "## In case you did not install properly the library \n",
    "## or didn't update your bashrc. (Do it later!)\n",
    "import os\n",
    "path_to_s4cmb = '../../s4cmb'\n",
    "os.sys.path.insert(0, os.path.realpath(path_to_s4cmb))"
   ]
  },
  {
   "cell_type": "code",
   "execution_count": 2,
   "metadata": {
    "collapsed": false
   },
   "outputs": [],
   "source": [
    "## Import basic modules and routines\n",
    "from __future__ import division, absolute_import, print_function"
   ]
  },
  {
   "cell_type": "markdown",
   "metadata": {},
   "source": [
    "Simulation of the CMB instrument\n",
    "====\n",
    "\n",
    "The routines and classes to simulate a CMB instrument are gathered in instrument.py.\n",
    "More specifically, we focus on 5 parts of the instrument:\n",
    "* Focal plane.\n",
    "* Pointing model parameters of the telescope.\n",
    "* Beam parameters of the bolometers.\n",
    "* Polarisation angle of the bolometers.\n",
    "* Half-wave plate (continously rotated or stepped)."
   ]
  },
  {
   "cell_type": "code",
   "execution_count": null,
   "metadata": {
    "collapsed": true
   },
   "outputs": [],
   "source": []
  }
 ],
 "metadata": {
  "kernelspec": {
   "display_name": "Python 2",
   "language": "python",
   "name": "python2"
  },
  "language_info": {
   "codemirror_mode": {
    "name": "ipython",
    "version": 2
   },
   "file_extension": ".py",
   "mimetype": "text/x-python",
   "name": "python",
   "nbconvert_exporter": "python",
   "pygments_lexer": "ipython2",
   "version": "2.7.13"
  }
 },
 "nbformat": 4,
 "nbformat_minor": 1
}
